{
 "cells": [
  {
   "cell_type": "markdown",
   "metadata": {},
   "source": [
    "In this first notebook, we install the different tools"
   ]
  },
  {
   "cell_type": "markdown",
   "metadata": {},
   "source": [
    "# Installation of brian\n",
    "\n",
    "We follow instructions from https://brian2.readthedocs.io/en/stable/introduction/install.html :"
   ]
  },
  {
   "cell_type": "code",
   "execution_count": 1,
   "metadata": {},
   "outputs": [
    {
     "name": "stdout",
     "output_type": "stream",
     "text": [
      "\u001b[33mRetrying (Retry(total=4, connect=None, read=None, redirect=None, status=None)) after connection broken by 'NewConnectionError('<pip._vendor.urllib3.connection.VerifiedHTTPSConnection object at 0x101c8a908>: Failed to establish a new connection: [Errno 8] nodename nor servname provided, or not known')': /simple/brian2/\u001b[0m\n",
      "\u001b[33mRetrying (Retry(total=3, connect=None, read=None, redirect=None, status=None)) after connection broken by 'NewConnectionError('<pip._vendor.urllib3.connection.VerifiedHTTPSConnection object at 0x101c8aa20>: Failed to establish a new connection: [Errno 8] nodename nor servname provided, or not known')': /simple/brian2/\u001b[0m\n",
      "\u001b[33mRetrying (Retry(total=2, connect=None, read=None, redirect=None, status=None)) after connection broken by 'NewConnectionError('<pip._vendor.urllib3.connection.VerifiedHTTPSConnection object at 0x101c8aa58>: Failed to establish a new connection: [Errno 8] nodename nor servname provided, or not known')': /simple/brian2/\u001b[0m\n",
      "\u001b[33mRetrying (Retry(total=1, connect=None, read=None, redirect=None, status=None)) after connection broken by 'NewConnectionError('<pip._vendor.urllib3.connection.VerifiedHTTPSConnection object at 0x101c8a4a8>: Failed to establish a new connection: [Errno 8] nodename nor servname provided, or not known')': /simple/brian2/\u001b[0m\n",
      "\u001b[33mRetrying (Retry(total=0, connect=None, read=None, redirect=None, status=None)) after connection broken by 'NewConnectionError('<pip._vendor.urllib3.connection.VerifiedHTTPSConnection object at 0x101c8a9e8>: Failed to establish a new connection: [Errno 8] nodename nor servname provided, or not known')': /simple/brian2/\u001b[0m\n",
      "Requirement already up-to-date: brian2 in /usr/local/lib/python3.7/site-packages (2.2.1)\n",
      "Requirement already satisfied, skipping upgrade: numpy>=1.10 in /usr/local/lib/python3.7/site-packages (from brian2) (1.15.4)\n",
      "Requirement already satisfied, skipping upgrade: sympy!=1.1.0,>=0.7.6 in /usr/local/lib/python3.7/site-packages (from brian2) (1.3)\n",
      "Requirement already satisfied, skipping upgrade: cython>=0.29 in /usr/local/lib/python3.7/site-packages (from brian2) (0.29.2)\n",
      "Requirement already satisfied, skipping upgrade: jinja2>=2.7 in /usr/local/lib/python3.7/site-packages (from brian2) (2.10)\n",
      "Requirement already satisfied, skipping upgrade: setuptools>=21 in /usr/local/lib/python3.7/site-packages (from brian2) (40.6.3)\n",
      "Requirement already satisfied, skipping upgrade: pyparsing in /usr/local/lib/python3.7/site-packages (from brian2) (2.3.0)\n",
      "Requirement already satisfied, skipping upgrade: mpmath>=0.19 in /usr/local/lib/python3.7/site-packages (from sympy!=1.1.0,>=0.7.6->brian2) (1.1.0)\n",
      "Requirement already satisfied, skipping upgrade: MarkupSafe>=0.23 in /usr/local/lib/python3.7/site-packages (from jinja2>=2.7->brian2) (1.1.0)\n"
     ]
    }
   ],
   "source": [
    "!python3 -m pip install -U brian2"
   ]
  },
  {
   "cell_type": "markdown",
   "metadata": {},
   "source": [
    "Testing it:"
   ]
  },
  {
   "cell_type": "code",
   "execution_count": 2,
   "metadata": {},
   "outputs": [],
   "source": [
    "import brian2"
   ]
  },
  {
   "cell_type": "markdown",
   "metadata": {},
   "source": [
    "# Installation of nest\n",
    "\n",
    "We follow instructions from  http://www.nest-simulator.org/installation/ \n",
    "in my case, for MacOs with [HomeBrew](brew.sh)'s python3, I use the following script"
   ]
  },
  {
   "cell_type": "code",
   "execution_count": 3,
   "metadata": {},
   "outputs": [
    {
     "name": "stdout",
     "output_type": "stream",
     "text": [
      "--2019-01-14 15:44:01--  https://raw.githubusercontent.com/laurentperrinet/config-scripts/master/nest_py3.rb\n",
      "Resolving raw.githubusercontent.com (raw.githubusercontent.com)... failed: nodename nor servname provided, or not known.\n",
      "wget: unable to resolve host address ‘raw.githubusercontent.com’\n"
     ]
    }
   ],
   "source": [
    "!wget https://raw.githubusercontent.com/laurentperrinet/config-scripts/master/nest_py3.rb"
   ]
  },
  {
   "cell_type": "code",
   "execution_count": 4,
   "metadata": {},
   "outputs": [
    {
     "name": "stdout",
     "output_type": "stream",
     "text": [
      "Updating Homebrew...\n",
      "\u001b[34m==>\u001b[0m \u001b[1mAuto-updated Homebrew!\u001b[0m\n",
      "Updated Homebrew from 7be9ac1e9 to 44f4f36c0.\n",
      "Updated 4 taps (homebrew/cask-versions, homebrew/core, homebrew/cask and vitorgalvao/tiny-scripts).\n",
      "\u001b[34m==>\u001b[0m \u001b[1mUpdated Formulae\u001b[0m\n",
      "\u001b[1mvitorgalvao/tiny-scripts/cask-repair \u001b[32m✔\u001b[0m\u001b[0m   fonttools\n",
      "elixir\n",
      "\n",
      "\u001b[31mError:\u001b[0m No available formula with the name \"nest_py3.rb\" \n",
      "\u001b[34m==>\u001b[0m \u001b[1mSearching for a previously deleted formula (in the last month)...\u001b[0m\n",
      "\u001b[33mWarning:\u001b[0m homebrew/core is shallow clone. To get complete history run:\n",
      "  git -C \"$(brew --repo homebrew/core)\" fetch --unshallow\n",
      "\n",
      "\u001b[31mError:\u001b[0m No previously deleted formula found.\n",
      "\u001b[34m==>\u001b[0m \u001b[1mSearching for similarly named formulae...\u001b[0m\n",
      "\u001b[31mError:\u001b[0m No similarly named formulae found.\n",
      "\u001b[34m==>\u001b[0m \u001b[1mSearching taps...\u001b[0m\n",
      "\u001b[34m==>\u001b[0m \u001b[1mSearching taps on GitHub...\u001b[0m\n",
      "/usr/bin/curl -q --show-error --user-agent Homebrew/1.9.2-5-g44f4f36\\ \\(Macintosh\\;\\ Intel\\ Mac\\ OS\\ X\\ 10.14.2\\)\\ curl/7.54.0 --location https://api.github.com/search/code\\?q=user\\%3AHomebrew\\+path\\%3AFormula\\+path\\%3ACasks\\+path\\%3A.\\+filename\\%3Anest_py3.rb\\+extension\\%3Arb\\&per_page=100 --header application/vnd.github.v3\\+json --write-out '\n",
      "'\\%\\{http_code\\} --header Authorization:\\ token\\ 94400c6c1d6f314ad0fd0796c5aca92431d40107 --dump-header /private/tmp/github_api_headers20190114-53499-cty9m0\n",
      "\u001b[31mError:\u001b[0m No formulae found in taps.\n"
     ]
    }
   ],
   "source": [
    "!brew install -vd nest_py3.rb"
   ]
  },
  {
   "cell_type": "markdown",
   "metadata": {},
   "source": [
    "Testing it:"
   ]
  },
  {
   "cell_type": "code",
   "execution_count": 5,
   "metadata": {},
   "outputs": [],
   "source": [
    "import nest"
   ]
  },
  {
   "cell_type": "markdown",
   "metadata": {},
   "source": [
    "# Installation of PyNN\n",
    "\n",
    "We follow instructions from http://neuralensemble.org/docs/PyNN/installation.html"
   ]
  },
  {
   "cell_type": "code",
   "execution_count": 6,
   "metadata": {},
   "outputs": [
    {
     "name": "stdout",
     "output_type": "stream",
     "text": [
      "\u001b[33mRetrying (Retry(total=4, connect=None, read=None, redirect=None, status=None)) after connection broken by 'NewConnectionError('<pip._vendor.urllib3.connection.VerifiedHTTPSConnection object at 0x1040788d0>: Failed to establish a new connection: [Errno 8] nodename nor servname provided, or not known')': /simple/pynn/\u001b[0m\n",
      "\u001b[33mRetrying (Retry(total=3, connect=None, read=None, redirect=None, status=None)) after connection broken by 'NewConnectionError('<pip._vendor.urllib3.connection.VerifiedHTTPSConnection object at 0x104078a20>: Failed to establish a new connection: [Errno 8] nodename nor servname provided, or not known')': /simple/pynn/\u001b[0m\n",
      "\u001b[33mRetrying (Retry(total=2, connect=None, read=None, redirect=None, status=None)) after connection broken by 'NewConnectionError('<pip._vendor.urllib3.connection.VerifiedHTTPSConnection object at 0x104078ef0>: Failed to establish a new connection: [Errno 8] nodename nor servname provided, or not known')': /simple/pynn/\u001b[0m\n",
      "\u001b[33mRetrying (Retry(total=1, connect=None, read=None, redirect=None, status=None)) after connection broken by 'NewConnectionError('<pip._vendor.urllib3.connection.VerifiedHTTPSConnection object at 0x104078588>: Failed to establish a new connection: [Errno 8] nodename nor servname provided, or not known')': /simple/pynn/\u001b[0m\n",
      "\u001b[33mRetrying (Retry(total=0, connect=None, read=None, redirect=None, status=None)) after connection broken by 'NewConnectionError('<pip._vendor.urllib3.connection.VerifiedHTTPSConnection object at 0x104078a90>: Failed to establish a new connection: [Errno 8] nodename nor servname provided, or not known')': /simple/pynn/\u001b[0m\n",
      "Requirement already up-to-date: PyNN in /usr/local/lib/python3.7/site-packages (0.9.3)\n",
      "Requirement already satisfied, skipping upgrade: neo>=0.5.2 in /usr/local/lib/python3.7/site-packages (from PyNN) (0.7.1)\n",
      "Requirement already satisfied, skipping upgrade: lazyarray>=0.3.2 in /usr/local/lib/python3.7/site-packages (from PyNN) (0.3.2)\n",
      "Requirement already satisfied, skipping upgrade: quantities>=0.12.1 in /usr/local/lib/python3.7/site-packages (from PyNN) (0.12.2)\n",
      "Requirement already satisfied, skipping upgrade: numpy>=1.8.2 in /usr/local/lib/python3.7/site-packages (from PyNN) (1.15.4)\n"
     ]
    }
   ],
   "source": [
    "!python3 -m pip install -U PyNN"
   ]
  },
  {
   "cell_type": "markdown",
   "metadata": {},
   "source": [
    "Testing it:"
   ]
  },
  {
   "cell_type": "code",
   "execution_count": 7,
   "metadata": {},
   "outputs": [],
   "source": [
    "import pyNN"
   ]
  }
 ],
 "metadata": {
  "kernelspec": {
   "display_name": "Python 3",
   "language": "python",
   "name": "python3"
  },
  "language_info": {
   "codemirror_mode": {
    "name": "ipython",
    "version": 3
   },
   "file_extension": ".py",
   "mimetype": "text/x-python",
   "name": "python",
   "nbconvert_exporter": "python",
   "pygments_lexer": "ipython3",
   "version": "3.7.2"
  }
 },
 "nbformat": 4,
 "nbformat_minor": 2
}
