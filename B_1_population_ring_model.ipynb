{
 "cells": [
  {
   "cell_type": "markdown",
   "metadata": {},
   "source": [
    "In this notebook, we will show using [PyNN](http://neuralensemble.org/docs/PyNN/index.html) how a neuron may integrate information by integrating over some tuned receptive field."
   ]
  },
  {
   "cell_type": "code",
   "execution_count": null,
   "metadata": {},
   "outputs": [],
   "source": [
    "import numpy as np"
   ]
  },
  {
   "cell_type": "code",
   "execution_count": null,
   "metadata": {
    "ExecuteTime": {
     "end_time": "2018-11-27T10:40:23.878159Z",
     "start_time": "2018-11-27T10:40:23.346744Z"
    }
   },
   "outputs": [],
   "source": [
    "import pyNN.nest as sim\n",
    "from pyNN.random import RandomDistribution, NumpyRNG"
   ]
  },
  {
   "cell_type": "markdown",
   "metadata": {},
   "source": [
    "# defining a feed-forward SNN with tuned cells\n"
   ]
  },
  {
   "cell_type": "code",
   "execution_count": null,
   "metadata": {},
   "outputs": [],
   "source": [
    "# === Define parameters ========================================================\n",
    "dt         = 0.5           # (ms)\n",
    "simtime    = 3000.0        # (ms)\n",
    "#simtime    = 20000.0        # (ms)\n",
    "\n",
    "N_inputs = 60\n",
    "#N_inputs = 360\n",
    "\n",
    "lambda_n = 1.5 # (Hz) rate of poisson noise\n",
    "theta = .50\n",
    "A = 3.2\n",
    "B = .61803"
   ]
  },
  {
   "cell_type": "code",
   "execution_count": null,
   "metadata": {},
   "outputs": [],
   "source": [
    "def tuning_function(N_inputs, lambda_n=lambda_n, A=A, theta=theta, B=B):\n",
    "    return lambda_n + A*np.exp((np.cos(2*np.pi*(np.linspace(0, 1, N_inputs)-theta))-1)/B**2)\n",
    "rate = tuning_function(N_inputs, lambda_n=lambda_n, A=A, theta=theta, B=B)\n"
   ]
  },
  {
   "cell_type": "code",
   "execution_count": null,
   "metadata": {
    "collapsed": false
   },
   "outputs": [],
   "source": [
    "%matplotlib inline\n",
    "import matplotlib.pyplot as plt\n",
    "import numpy as np\n",
    "fig_width = 15\n",
    "phi = (np.sqrt(5)+1)/2"
   ]
  },
  {
   "cell_type": "code",
   "execution_count": null,
   "metadata": {},
   "outputs": [],
   "source": [
    "fig, ax = plt.subplots(1, 1, figsize=(fig_width, fig_width/phi))\n",
    "ax.plot(rate)\n",
    "ax.set_ylim(0)\n",
    "ax.set_xlabel('input')\n",
    "ax.set_ylabel('rate (Hz)');"
   ]
  },
  {
   "cell_type": "code",
   "execution_count": null,
   "metadata": {},
   "outputs": [],
   "source": [
    "weight0 = .005\n",
    "tf = tuning_function(N_inputs, lambda_n=0, A=1, theta=0, B=B)\n",
    "\n",
    "from scipy.linalg import toeplitz\n",
    "weights = toeplitz(tf)"
   ]
  },
  {
   "cell_type": "code",
   "execution_count": null,
   "metadata": {},
   "outputs": [],
   "source": [
    "fig, ax = plt.subplots(1, 1, figsize=(fig_width, fig_width))\n",
    "ax.imshow(weights.T)\n",
    "ax.set_xlabel(\"Ouput index\")\n",
    "ax.set_ylabel('Input index');"
   ]
  },
  {
   "cell_type": "code",
   "execution_count": null,
   "metadata": {},
   "outputs": [],
   "source": [
    "# === Build the network ========================================================\n",
    "sim.setup(timestep=dt)\n",
    "\n",
    "spike_input = sim.Population(N_inputs, sim.SpikeSourcePoisson(rate=rate, duration=simtime), label=\"expoisson\")        \n",
    "spike_input.record('spikes')\n",
    "\n",
    "thalamocort_cell = sim.IF_cond_alpha()\n",
    "\n",
    "tc_cells = sim.Population(N_inputs, thalamocort_cell)\n",
    "tc_cells.record('spikes')\n",
    "\n",
    "#Synapses type\n",
    "delayed_synapses = sim.StaticSynapse()\n",
    "#connectivity using the projection method\n",
    "connections = sim.Projection(spike_input, tc_cells,\n",
    "                                    connector=sim.AllToAllConnector(),\n",
    "                                    synapse_type=delayed_synapses,\n",
    "                                    receptor_type='excitatory',\n",
    "                                    label=\"excitatory connections\")\n",
    "\n",
    "connections.set(weight=weights)\n",
    "\n",
    "# === Run simulation ===========================================================\n",
    "sim.run(simtime)\n",
    "sim.end()\n"
   ]
  },
  {
   "cell_type": "code",
   "execution_count": null,
   "metadata": {},
   "outputs": [],
   "source": [
    "from tools import plot_spiketrains\n",
    "fig, axs = plt.subplots(2, 1, figsize=(fig_width, fig_width/phi))\n",
    "fig, axs[0] = plot_spiketrains(spike_input, color='g', simtime=simtime, fig=fig, ax=axs[0])\n",
    "fig, axs[1] = plot_spiketrains(tc_cells, color='r', simtime=simtime, fig=fig, ax=axs[1])"
   ]
  },
  {
   "cell_type": "code",
   "execution_count": null,
   "metadata": {},
   "outputs": [],
   "source": [
    "from tools import histogram\n",
    "fig, ax = plt.subplots(1, 1, figsize=(fig_width, fig_width/phi))\n",
    "fig, ax = histogram(spike_input, color='g', simtime=simtime, fig=fig, ax=ax)\n",
    "fig, ax = histogram(tc_cells, color='r', simtime=simtime, fig=fig, ax=ax)"
   ]
  },
  {
   "cell_type": "markdown",
   "metadata": {},
   "source": [
    "# adding a feed-forward inhibition layer\n"
   ]
  },
  {
   "cell_type": "code",
   "execution_count": null,
   "metadata": {},
   "outputs": [],
   "source": [
    "delay_RE = 8.\n",
    "delay_RI = 5.\n",
    "delay_IE = 3.\n",
    "\n",
    "# === Build the network ========================================================\n",
    "sim.setup(timestep=dt)\n",
    "\n",
    "spike_input = sim.Population(N_inputs, sim.SpikeSourcePoisson(rate=rate, duration=simtime), label=\"expoisson\")        \n",
    "spike_input.record('spikes')\n",
    "\n",
    "thalamocort_cell = sim.IF_cond_alpha()\n",
    "\n",
    "tc_cells = sim.Population(N_inputs, thalamocort_cell)\n",
    "tc_cells.record('spikes')\n",
    "\n",
    "inh_cells = sim.Population(N_inputs, thalamocort_cell)\n",
    "inh_cells.record('spikes')\n",
    "\n",
    "for delay, pop_in, pop_out, stype in zip([delay_RE, delay_RI, delay_IE],\n",
    "                                   [spike_input, spike_input, inh_cells],\n",
    "                                   [tc_cells, inh_cells, tc_cells],\n",
    "                                   ['excitatory', 'excitatory', 'inhibitory'] ):\n",
    "\n",
    "    connections = sim.Projection(pop_in, pop_out,\n",
    "                                connector=sim.AllToAllConnector(),\n",
    "                                synapse_type=sim.StaticSynapse(),\n",
    "                                receptor_type=stype)#, label='toto'str(pop_in) + (pop_out))\n",
    "\n",
    "\n",
    "    connections.set(delay=delay)\n",
    "    connections.set(weight=weights)\n",
    "\n",
    "# === Run simulation ===========================================================\n",
    "sim.run(simtime)\n",
    "sim.end()\n"
   ]
  },
  {
   "cell_type": "code",
   "execution_count": null,
   "metadata": {},
   "outputs": [],
   "source": [
    "from tools import plot_spiketrains\n",
    "fig, axs = plt.subplots(3, 1, figsize=(fig_width, fig_width/phi))\n",
    "fig, axs[0] = plot_spiketrains(spike_input, color='g', simtime=simtime, fig=fig, ax=axs[0])\n",
    "fig, axs[1] = plot_spiketrains(tc_cells, color='r', simtime=simtime, fig=fig, ax=axs[1])\n",
    "fig, axs[2] = plot_spiketrains(tc_cells, color='b', simtime=simtime, fig=fig, ax=axs[2])\n"
   ]
  },
  {
   "cell_type": "code",
   "execution_count": null,
   "metadata": {},
   "outputs": [],
   "source": [
    "from tools import histogram\n",
    "fig, ax = plt.subplots(1, 1, figsize=(fig_width, fig_width/phi))\n",
    "fig, ax = histogram(spike_input, color='g', simtime=simtime, fig=fig, ax=ax)\n",
    "fig, ax = histogram(tc_cells, color='r', simtime=simtime, fig=fig, ax=ax)\n",
    "fig, ax = histogram(inh_cells, color='b', simtime=simtime, fig=fig, ax=ax)"
   ]
  }
 ],
 "metadata": {
  "kernelspec": {
   "display_name": "Python 3",
   "language": "python",
   "name": "python3"
  },
  "language_info": {
   "codemirror_mode": {
    "name": "ipython",
    "version": 3
   },
   "file_extension": ".py",
   "mimetype": "text/x-python",
   "name": "python",
   "nbconvert_exporter": "python",
   "pygments_lexer": "ipython3",
   "version": "3.7.2"
  }
 },
 "nbformat": 4,
 "nbformat_minor": 2
}
