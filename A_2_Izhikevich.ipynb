{
 "cells": [
  {
   "cell_type": "markdown",
   "metadata": {},
   "source": [
    "In this first notebook, we will go from the installation of the [PyNN](http://neuralensemble.org/docs/PyNN/index.html) neural desriptor to the display of the simulation of Izhikevich neurons."
   ]
  },
  {
   "cell_type": "code",
   "execution_count": null,
   "metadata": {
    "collapsed": false
   },
   "outputs": [],
   "source": [
    "%matplotlib inline\n",
    "import matplotlib.pyplot as plt\n",
    "import numpy as np\n",
    "fig_width = 15\n",
    "phi = (np.sqrt(5)+1)/2"
   ]
  },
  {
   "cell_type": "markdown",
   "metadata": {},
   "source": [
    "# A selection of Izhikevich neurons\n",
    "\n",
    "adapted from http://neuralensemble.org/docs/PyNN/examples/Izhikevich.html"
   ]
  },
  {
   "cell_type": "markdown",
   "metadata": {},
   "source": [
    "Configure the simulator"
   ]
  },
  {
   "cell_type": "code",
   "execution_count": null,
   "metadata": {},
   "outputs": [],
   "source": [
    "import pyNN.nest as sim\n",
    "sim.setup(timestep=0.01, min_delay=1.0)"
   ]
  },
  {
   "cell_type": "code",
   "execution_count": null,
   "metadata": {},
   "outputs": [],
   "source": [
    "# === Build and instrument the network =======================================\n",
    "spike_source = sim.Population(1, sim.SpikeSourceArray(spike_times=np.arange(10.0, 51, 1)))\n",
    "\n",
    "neurons = sim.Population(3, sim.Izhikevich(a=0.02, b=0.2, c=-65, d=6, i_offset=[0.014, 0.0, 0.0]))\n",
    "\n",
    "connection = sim.Projection(spike_source, neurons[1:2], sim.OneToOneConnector(),\n",
    "                            sim.StaticSynapse(weight=3.0, delay=1.0),\n",
    "                            receptor_type='excitatory'),\n",
    "\n",
    "# perturb\n",
    "electrode = sim.DCSource(start=2.0, stop=92.0, amplitude=0.014)\n",
    "electrode.inject_into(neurons[2:3])\n",
    "\n",
    "# record\n",
    "neurons.record(['v'])  # , 'u'])\n",
    "neurons.initialize(v=-70.0, u=-14.0)"
   ]
  },
  {
   "cell_type": "code",
   "execution_count": null,
   "metadata": {},
   "outputs": [],
   "source": [
    "# === Run the simulation =====================================================\n",
    "\n",
    "sim.run(100.0)"
   ]
  },
  {
   "cell_type": "code",
   "execution_count": null,
   "metadata": {},
   "outputs": [],
   "source": [
    "# === Save the results, optionally plot a figure =============================\n",
    "\n",
    "from pyNN.utility.plotting import Figure, Panel\n",
    "data = neurons.get_data().segments[0]\n",
    "v = data.filter(name=\"v\")[0]\n",
    "#u = data.filter(name=\"u\")[0]\n",
    "fig = Figure(\n",
    "    Panel(v, ylabel=\"Membrane potential (mV)\", xticks=True,\n",
    "          xlabel=\"Time (ms)\", yticks=True),\n",
    "    #Panel(u, ylabel=\"u variable (units?)\"),    \n",
    ")\n",
    "# === Clean up and quit ========================================================\n",
    "\n",
    "sim.end()"
   ]
  }
 ],
 "metadata": {
  "kernelspec": {
   "display_name": "Python 3",
   "language": "python",
   "name": "python3"
  },
  "language_info": {
   "codemirror_mode": {
    "name": "ipython",
    "version": 3
   },
   "file_extension": ".py",
   "mimetype": "text/x-python",
   "name": "python",
   "nbconvert_exporter": "python",
   "pygments_lexer": "ipython3",
   "version": "3.7.2"
  }
 },
 "nbformat": 4,
 "nbformat_minor": 2
}
