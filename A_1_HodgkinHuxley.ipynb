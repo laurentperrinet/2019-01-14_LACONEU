{
 "cells": [
  {
   "cell_type": "markdown",
   "metadata": {},
   "source": [
    "In this first notebook, we will go from the installation of the [Brian](http://briansimulator.org/) neural simulator to the display of the simulation of an Hodgkin-Huxley neuron."
   ]
  },
  {
   "cell_type": "markdown",
   "metadata": {},
   "source": [
    "# Installation of brian"
   ]
  },
  {
   "cell_type": "code",
   "execution_count": null,
   "metadata": {},
   "outputs": [],
   "source": [
    "!python3 -m pip install -U brian2"
   ]
  },
  {
   "cell_type": "markdown",
   "metadata": {},
   "source": [
    "We will now explore some examples of their [tutorials](https://brian2.readthedocs.io/en/stable/resources/tutorials/index.html)"
   ]
  },
  {
   "cell_type": "code",
   "execution_count": null,
   "metadata": {},
   "outputs": [],
   "source": [
    "import brian2 as sim"
   ]
  },
  {
   "cell_type": "code",
   "execution_count": null,
   "metadata": {},
   "outputs": [],
   "source": [
    "help(sim.core)"
   ]
  },
  {
   "cell_type": "code",
   "execution_count": null,
   "metadata": {
    "collapsed": false
   },
   "outputs": [],
   "source": [
    "%matplotlib inline\n",
    "import matplotlib.pyplot as plt\n",
    "import numpy as np\n",
    "fig_width = 15\n",
    "phi = (np.sqrt(5)+1)/2"
   ]
  },
  {
   "cell_type": "markdown",
   "metadata": {},
   "source": [
    "# the simplest neuron in the world"
   ]
  },
  {
   "cell_type": "markdown",
   "metadata": {
    "heading_collapsed": false,
    "level": 2
   },
   "source": [
    "\n",
    "## Units system\n",
    "\n",
    "Brian has a system for using quantities with physical dimensions:"
   ]
  },
  {
   "cell_type": "code",
   "execution_count": null,
   "metadata": {},
   "outputs": [],
   "source": [
    "20*sim.volt"
   ]
  },
  {
   "cell_type": "markdown",
   "metadata": {},
   "source": [
    "All of the basic SI units can be used (volt, amp, etc.) along with all the standard prefixes (m=milli, p=pico, etc.), as well as a few special abbreviations like ``mV`` for millivolt, ``pF`` for picofarad, etc."
   ]
  },
  {
   "cell_type": "code",
   "execution_count": null,
   "metadata": {},
   "outputs": [],
   "source": [
    "1000*sim.amp"
   ]
  },
  {
   "cell_type": "code",
   "execution_count": null,
   "metadata": {},
   "outputs": [],
   "source": [
    "1e6*sim.volt"
   ]
  },
  {
   "cell_type": "code",
   "execution_count": null,
   "metadata": {},
   "outputs": [],
   "source": [
    "1000*sim.namp"
   ]
  },
  {
   "cell_type": "markdown",
   "metadata": {},
   "source": [
    "Also note that combinations of units with work as expected:"
   ]
  },
  {
   "cell_type": "code",
   "execution_count": null,
   "metadata": {},
   "outputs": [],
   "source": [
    "10*sim.nA*5*sim.Mohm"
   ]
  },
  {
   "cell_type": "markdown",
   "metadata": {
    "heading_collapsed": false,
    "level": 2
   },
   "source": [
    "## A simple model\n",
    "\n",
    "Let's start by defining a simple neuron model. "
   ]
  },
  {
   "cell_type": "code",
   "execution_count": null,
   "metadata": {},
   "outputs": [],
   "source": [
    "sim.start_scope()\n",
    "\n",
    "tau = 10*sim.ms\n",
    "v0 = 42*sim.volt\n",
    "eqs = '''\n",
    "dv/dt = (v0-v)/tau : volt\n",
    "'''\n",
    "\n",
    "G = sim.NeuronGroup(1, eqs)\n",
    "M = sim.StateMonitor(G, 'v', record=True)\n",
    "\n",
    "sim.run(100*sim.ms)"
   ]
  },
  {
   "cell_type": "code",
   "execution_count": null,
   "metadata": {},
   "outputs": [],
   "source": [
    "fig, ax = plt.subplots(1, 1, figsize=(fig_width, fig_width/phi))\n",
    "ax.plot(M.t/sim.ms, M.v[0])\n",
    "ax.set_xlabel('Time (ms)')\n",
    "ax.set_ylabel('v (volts)');"
   ]
  },
  {
   "cell_type": "markdown",
   "metadata": {
    "heading_collapsed": false,
    "level": 2
   },
   "source": [
    "## Adding spikes\n",
    "\n",
    "So far we haven't done anything neuronal, just played around with differential equations. Now let's start adding spiking behaviour."
   ]
  },
  {
   "cell_type": "code",
   "execution_count": null,
   "metadata": {},
   "outputs": [],
   "source": [
    "sim.start_scope()\n",
    "\n",
    "tau = 10*sim.ms\n",
    "v0 = 1.2*sim.volt\n",
    "eqs = '''\n",
    "dv/dt = (v0-v)/tau : volt\n",
    "'''\n",
    "\n",
    "G = sim.NeuronGroup(1, eqs, threshold='v>0.8*volt', reset='v=0*volt', refractory=5*sim.ms)\n",
    "M = sim.StateMonitor(G, 'v', record=True)\n",
    "spikemon = sim.SpikeMonitor(G)\n",
    "\n",
    "sim.run(100*sim.ms)\n"
   ]
  },
  {
   "cell_type": "code",
   "execution_count": null,
   "metadata": {},
   "outputs": [],
   "source": [
    "print('Spike times: %s' % spikemon.t[:])"
   ]
  },
  {
   "cell_type": "code",
   "execution_count": null,
   "metadata": {},
   "outputs": [],
   "source": [
    "fig, ax = plt.subplots(1, 1, figsize=(fig_width, fig_width/phi))\n",
    "ax.plot(M.t/sim.ms, M.v[0])\n",
    "for t in spikemon.t:\n",
    "    ax.vlines(t/sim.ms, ymin=.8, ymax=1.2)\n",
    "ax.set_xlabel('Time (ms)')\n",
    "ax.set_ylim(-.2, 1.4)\n",
    "ax.set_ylabel('v');"
   ]
  },
  {
   "cell_type": "markdown",
   "metadata": {},
   "source": [
    "### Hodgkin-Huxley cells (without morphology)\n",
    "\n",
    "code adapted from https://brian2.readthedocs.io/en/stable/examples/IF_curve_Hodgkin_Huxley.html  (morphology added in  https://brian2.readthedocs.io/en/stable/examples/compartmental.hodgkin_huxley_1952.html )."
   ]
  },
  {
   "cell_type": "code",
   "execution_count": null,
   "metadata": {},
   "outputs": [],
   "source": [
    "sim.start_scope()\n",
    "\n",
    "duration = .2*sim.second\n",
    "\n",
    "# Parameters\n",
    "area = 20000*sim.umetre**2\n",
    "Cm = 1*sim.ufarad*sim.cm**-2 * area\n",
    "gl = 5e-5*sim.siemens*sim.cm**-2 * area\n",
    "El = -65*sim.mV\n",
    "EK = -90*sim.mV\n",
    "ENa = 50*sim.mV\n",
    "g_na = 100*sim.msiemens*sim.cm**-2 * area\n",
    "g_kd = 30*sim.msiemens*sim.cm**-2 * area\n",
    "VT = -63*sim.mV\n",
    "\n",
    "# The model\n",
    "HH_eqs = sim.Equations('''\n",
    "dv/dt = (gl*(El-v) - g_na*(m*m*m)*h*(v-ENa) - g_kd*(n*n*n*n)*(v-EK) + I)/Cm : volt\n",
    "dm/dt = 0.32*(mV**-1)*(13.*mV-v+VT)/\n",
    "    (exp((13.*mV-v+VT)/(4.*mV))-1.)/ms*(1-m)-0.28*(mV**-1)*(v-VT-40.*mV)/\n",
    "    (exp((v-VT-40.*mV)/(5.*mV))-1.)/ms*m : 1\n",
    "dn/dt = 0.032*(mV**-1)*(15.*mV-v+VT)/\n",
    "    (exp((15.*mV-v+VT)/(5.*mV))-1.)/ms*(1.-n)-.5*exp((10.*mV-v+VT)/(40.*mV))/ms*n : 1\n",
    "dh/dt = 0.128*exp((17.*mV-v+VT)/(18.*mV))/ms*(1.-h)-4./(1+exp((40.*mV-v+VT)/(5.*mV)))/ms*h : 1\n",
    "I : amp\n",
    "''')\n",
    "# Threshold and refractoriness are only used for spike counting\n",
    "HH_G = sim.NeuronGroup(1, HH_eqs,\n",
    "                    threshold='v > -40*mV',\n",
    "                    refractory='v > -40*mV',\n",
    "                    method='exponential_euler')\n",
    "HH_G.v = El\n",
    "HH_G.I = '0.7*nA'\n",
    "\n",
    "HH_M = sim.StateMonitor(HH_G, 'v', record=True)\n",
    "\n",
    "sim.run(duration)"
   ]
  },
  {
   "cell_type": "code",
   "execution_count": null,
   "metadata": {},
   "outputs": [],
   "source": [
    "fig, ax = plt.subplots(1, 1, figsize=(fig_width, fig_width/phi))\n",
    "ax.plot(HH_M.t/sim.ms, HH_M.v[0])\n",
    "ax.set_xlabel('Time (ms)')\n",
    "ax.set_ylim(-.1, .07)\n",
    "ax.set_ylabel('v (volt)');"
   ]
  }
 ],
 "metadata": {
  "kernelspec": {
   "display_name": "Python 3",
   "language": "python",
   "name": "python3"
  },
  "language_info": {
   "codemirror_mode": {
    "name": "ipython",
    "version": 3
   },
   "file_extension": ".py",
   "mimetype": "text/x-python",
   "name": "python",
   "nbconvert_exporter": "python",
   "pygments_lexer": "ipython3",
   "version": "3.7.2"
  }
 },
 "nbformat": 4,
 "nbformat_minor": 2
}
