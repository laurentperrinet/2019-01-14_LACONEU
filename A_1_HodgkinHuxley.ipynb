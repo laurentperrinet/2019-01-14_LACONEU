{
 "cells": [
  {
   "cell_type": "markdown",
   "metadata": {},
   "source": [
    "In this first notebook, we will go from the installation of the [Brian](http://briansimulator.org/) neural simulator to the display of the simulation of an Hodgkin-Huxley neuron."
   ]
  },
  {
   "cell_type": "markdown",
   "metadata": {},
   "source": [
    "# Installation of brian"
   ]
  },
  {
   "cell_type": "code",
   "execution_count": null,
   "metadata": {},
   "outputs": [],
   "source": [
    "!python3 -m pip install -U brian2"
   ]
  },
  {
   "cell_type": "markdown",
   "metadata": {},
   "source": [
    "We will now explore some examples of their [tutorials](https://brian2.readthedocs.io/en/stable/resources/tutorials/index.html)"
   ]
  },
  {
   "cell_type": "code",
   "execution_count": null,
   "metadata": {},
   "outputs": [],
   "source": [
    "import brian2 as sim"
   ]
  },
  {
   "cell_type": "code",
   "execution_count": null,
   "metadata": {},
   "outputs": [],
   "source": [
    "help(sim.core)"
   ]
  },
  {
   "cell_type": "code",
   "execution_count": null,
   "metadata": {
    "collapsed": false
   },
   "outputs": [],
   "source": [
    "%matplotlib inline\n",
    "import matplotlib.pyplot as plt\n",
    "import numpy as np\n",
    "fig_width = 15\n",
    "phi = (np.sqrt(5)+1)/2"
   ]
  },
  {
   "cell_type": "markdown",
   "metadata": {},
   "source": [
    "# the simplest neuron in the world"
   ]
  },
  {
   "cell_type": "markdown",
   "metadata": {
    "heading_collapsed": false,
    "level": 2
   },
   "source": [
    "\n",
    "## Units system\n",
    "\n",
    "Brian has a system for using quantities with physical dimensions:"
   ]
  },
  {
   "cell_type": "code",
   "execution_count": null,
   "metadata": {},
   "outputs": [],
   "source": [
    "20*sim.volt"
   ]
  },
  {
   "cell_type": "markdown",
   "metadata": {},
   "source": [
    "All of the basic SI units can be used (volt, amp, etc.) along with all the standard prefixes (m=milli, p=pico, etc.), as well as a few special abbreviations like ``mV`` for millivolt, ``pF`` for picofarad, etc."
   ]
  },
  {
   "cell_type": "code",
   "execution_count": null,
   "metadata": {},
   "outputs": [],
   "source": [
    "1000*sim.amp"
   ]
  },
  {
   "cell_type": "code",
   "execution_count": null,
   "metadata": {},
   "outputs": [],
   "source": [
    "1e6*sim.volt"
   ]
  },
  {
   "cell_type": "code",
   "execution_count": null,
   "metadata": {},
   "outputs": [],
   "source": [
    "1000*sim.namp"
   ]
  },
  {
   "cell_type": "markdown",
   "metadata": {},
   "source": [
    "Also note that combinations of units with work as expected:"
   ]
  },
  {
   "cell_type": "code",
   "execution_count": null,
   "metadata": {},
   "outputs": [],
   "source": [
    "10*sim.nA*5*sim.Mohm"
   ]
  },
  {
   "cell_type": "markdown",
   "metadata": {
    "heading_collapsed": false,
    "level": 2
   },
   "source": [
    "## A simple model\n",
    "\n",
    "Let's start by defining a simple neuron model. "
   ]
  },
  {
   "cell_type": "code",
   "execution_count": null,
   "metadata": {},
   "outputs": [],
   "source": [
    "sim.start_scope()\n",
    "\n",
    "tau = 10*sim.ms\n",
    "v0 = 42*sim.volt\n",
    "eqs = '''\n",
    "dv/dt = (v0-v)/tau : volt\n",
    "'''\n",
    "\n",
    "G = sim.NeuronGroup(1, eqs)\n",
    "M = sim.StateMonitor(G, 'v', record=True)\n",
    "\n",
    "sim.run(100*sim.ms)"
   ]
  },
  {
   "cell_type": "code",
   "execution_count": null,
   "metadata": {},
   "outputs": [],
   "source": [
    "fig, ax = plt.subplots(1, 1, figsize=(fig_width, fig_width/phi))\n",
    "ax.plot(M.t/sim.ms, M.v[0])\n",
    "ax.set_xlabel('Time (ms)')\n",
    "ax.set_ylabel('v (volts)');"
   ]
  },
  {
   "cell_type": "markdown",
   "metadata": {
    "heading_collapsed": false,
    "level": 2
   },
   "source": [
    "## Adding spikes\n",
    "\n",
    "So far we haven't done anything neuronal, just played around with differential equations. Now let's start adding spiking behaviour."
   ]
  },
  {
   "cell_type": "code",
   "execution_count": null,
   "metadata": {},
   "outputs": [],
   "source": [
    "sim.start_scope()\n",
    "\n",
    "tau = 10*sim.ms\n",
    "v0 = 1.2*sim.volt\n",
    "eqs = '''\n",
    "dv/dt = (v0-v)/tau : volt\n",
    "'''\n",
    "\n",
    "G = sim.NeuronGroup(1, eqs, threshold='v>0.8*volt', reset='v=0*volt', refractory=5*sim.ms)\n",
    "M = sim.StateMonitor(G, 'v', record=True)\n",
    "spikemon = sim.SpikeMonitor(G)\n",
    "\n",
    "sim.run(100*sim.ms)\n"
   ]
  },
  {
   "cell_type": "code",
   "execution_count": null,
   "metadata": {},
   "outputs": [],
   "source": [
    "print('Spike times: %s' % spikemon.t[:])"
   ]
  },
  {
   "cell_type": "code",
   "execution_count": null,
   "metadata": {},
   "outputs": [],
   "source": [
    "fig, ax = plt.subplots(1, 1, figsize=(fig_width, fig_width/phi))\n",
    "ax.plot(M.t/sim.ms, M.v[0])\n",
    "for t in spikemon.t:\n",
    "    ax.vlines(t/sim.ms, ymin=.8, ymax=1.2)\n",
    "ax.set_xlabel('Time (ms)')\n",
    "ax.set_ylim(-.2, 1.4)\n",
    "ax.set_ylabel('v');"
   ]
  },
  {
   "cell_type": "markdown",
   "metadata": {},
   "source": [
    "### Hodgkin-Huxley cells (without morphology)\n",
    "\n",
    "code adapted from https://brian2.readthedocs.io/en/stable/examples/IF_curve_Hodgkin_Huxley.html  (morphology added in  https://brian2.readthedocs.io/en/stable/examples/compartmental.hodgkin_huxley_1952.html )."
   ]
  },
  {
   "cell_type": "code",
   "execution_count": null,
   "metadata": {},
   "outputs": [],
   "source": [
    "sim.start_scope()\n",
    "\n",
    "duration = .2*sim.second\n",
    "\n",
    "# Parameters\n",
    "area = 20000*sim.umetre**2\n",
    "Cm = 1*sim.ufarad*sim.cm**-2 * area\n",
    "gl = 5e-5*sim.siemens*sim.cm**-2 * area\n",
    "El = -65*sim.mV\n",
    "EK = -90*sim.mV\n",
    "ENa = 50*sim.mV\n",
    "g_na = 100*sim.msiemens*sim.cm**-2 * area\n",
    "g_kd = 30*sim.msiemens*sim.cm**-2 * area\n",
    "VT = -63*sim.mV\n",
    "\n",
    "# The model\n",
    "HH_eqs = sim.Equations('''\n",
    "dv/dt = (gl*(El-v) - g_na*(m*m*m)*h*(v-ENa) - g_kd*(n*n*n*n)*(v-EK) + I)/Cm : volt\n",
    "dm/dt = 0.32*(mV**-1)*(13.*mV-v+VT)/\n",
    "    (exp((13.*mV-v+VT)/(4.*mV))-1.)/ms*(1-m)-0.28*(mV**-1)*(v-VT-40.*mV)/\n",
    "    (exp((v-VT-40.*mV)/(5.*mV))-1.)/ms*m : 1\n",
    "dn/dt = 0.032*(mV**-1)*(15.*mV-v+VT)/\n",
    "    (exp((15.*mV-v+VT)/(5.*mV))-1.)/ms*(1.-n)-.5*exp((10.*mV-v+VT)/(40.*mV))/ms*n : 1\n",
    "dh/dt = 0.128*exp((17.*mV-v+VT)/(18.*mV))/ms*(1.-h)-4./(1+exp((40.*mV-v+VT)/(5.*mV)))/ms*h : 1\n",
    "I : amp\n",
    "''')\n",
    "# Threshold and refractoriness are only used for spike counting\n",
    "HH_G = sim.NeuronGroup(1, HH_eqs,\n",
    "                    threshold='v > -40*mV',\n",
    "                    refractory='v > -40*mV',\n",
    "                    method='exponential_euler')\n",
    "HH_G.v = El\n",
    "HH_G.I = '0.7*nA'\n",
    "\n",
    "HH_M = sim.StateMonitor(HH_G, 'v', record=True)\n",
    "\n",
    "sim.run(duration)"
   ]
  },
  {
   "cell_type": "code",
   "execution_count": null,
   "metadata": {},
   "outputs": [],
   "source": [
    "fig, ax = plt.subplots(1, 1, figsize=(fig_width, fig_width/phi))\n",
    "ax.plot(HH_M.t/sim.ms, HH_M.v[0])\n",
    "ax.set_xlabel('Time (ms)')\n",
    "ax.set_ylim(-.1, .07)\n",
    "ax.set_ylabel('v (volt)');"
   ]
  },
  {
   "cell_type": "markdown",
   "metadata": {},
   "source": [
    "## interacting with the model"
   ]
  },
  {
   "cell_type": "raw",
   "metadata": {},
   "source": [
    "%matplotlib inline\n",
    "from brian2 import *\n",
    "from brian2tools import *\n",
    "import ipywidgets as ipw\n",
    "\n",
    "def model(N=20, R_max=150, f=10, w=0.1, p=0.5, tau=5, tau_t=50, delta_t=0.1):\n",
    "    # Get parameters\n",
    "    R_max = R_max*Hz\n",
    "    f = f*Hz\n",
    "    tau = tau*ms\n",
    "    tau_t = tau_t*ms\n",
    "    duration = 200*ms\n",
    "    \n",
    "    # Simulation code\n",
    "    G = PoissonGroup(N, rates='R_max*0.5*(1+sin(2*pi*f*t))')\n",
    "    eqs = '''\n",
    "    dV/dt = -V/tau : 1\n",
    "    dVt/dt = (1-Vt)/tau_t : 1\n",
    "    '''\n",
    "    H = NeuronGroup(1, eqs, threshold='V>Vt', reset='V=0; Vt += delta_t', method='linear')\n",
    "    H.Vt = 1\n",
    "    S = Synapses(G, H, on_pre='V += w')\n",
    "    S.connect(p=p)\n",
    "    # Run it\n",
    "    MG = SpikeMonitor(G)\n",
    "    MH = StateMonitor(H, ('V', 'Vt'), record=True)\n",
    "    run(duration)\n",
    "    \n",
    "    # Plotting code\n",
    "    figure(figsize=(15, 4))\n",
    "    subplot(131)\n",
    "    brian_plot(MG)\n",
    "    title('Source neurons (Poisson)')\n",
    "    subplot(132)\n",
    "    plot(zeros(N), arange(N), 'ob')\n",
    "    plot([0, 1], [S.i, ones(len(S.i))*N/2.], '-k')\n",
    "    plot([1], [N/2.], 'og')\n",
    "    xlim(-0.1, 1.1)\n",
    "    ylim(-1, N)\n",
    "    axis('off')\n",
    "    title('Synapses')\n",
    "    subplot(133)\n",
    "    plot(MH.t, MH.V[0], label='V')\n",
    "    plot(MH.t, MH.Vt[0], label='Vt')\n",
    "    legend(loc='upper left')\n",
    "    title('Target neuron')\n",
    "    \n",
    "ipw.interact(model,\n",
    "             N=ipw.IntSlider(value=20, min=5, max=100, step=5, continous_update=False,\n",
    "                             description=\"Number of source neurons\"),\n",
    "             R_max=ipw.FloatSlider(value=300, min=0, max=500, step=10, continuous_update=False,\n",
    "                                   description=r\"Source neuron max firing rate (Hz)\"),\n",
    "             f=ipw.FloatSlider(value=10, min=1, max=50, step=1, continuous_update=False,\n",
    "                               description=r\"Source neuron frequency (Hz)\"),\n",
    "             p=ipw.FloatSlider(value=0.5, min=0, max=1, step=0.01, continuous_update=False,\n",
    "                               description=r\"Synapse probability\"),\n",
    "             w=ipw.FloatSlider(value=0.3, min=0, max=1, step=0.01, continuous_update=False,\n",
    "                               description=r\"Synapse weight\"),\n",
    "             tau=ipw.FloatSlider(value=5, min=1, max=50, step=1, continuous_update=False,\n",
    "                                 description=r\"Target neuron membrane time constant (ms)\"),\n",
    "             tau_t=ipw.FloatSlider(value=30, min=5, max=500, step=5, continuous_update=False,\n",
    "                                   description=r\"Target neuron adaptation constant (ms)\"),\n",
    "             delta_t=ipw.FloatSlider(value=1.0, min=0, max=20, step=0.1, continuous_update=False,\n",
    "                                     description=r\"Target neuron adaptation strength\"),\n",
    "            )"
   ]
  }
 ],
 "metadata": {
  "kernelspec": {
   "display_name": "Python 3",
   "language": "python",
   "name": "python3"
  },
  "language_info": {
   "codemirror_mode": {
    "name": "ipython",
    "version": 3
   },
   "file_extension": ".py",
   "mimetype": "text/x-python",
   "name": "python",
   "nbconvert_exporter": "python",
   "pygments_lexer": "ipython3",
   "version": "3.7.2"
  }
 },
 "nbformat": 4,
 "nbformat_minor": 2
}
