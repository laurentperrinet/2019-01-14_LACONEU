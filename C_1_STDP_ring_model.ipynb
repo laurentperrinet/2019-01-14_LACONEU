{
 "cells": [
  {
   "cell_type": "markdown",
   "metadata": {},
   "source": [
    "In this notebook, we will show using [PyNN](http://neuralensemble.org/docs/PyNN/index.html) how a neuron may may learn a tuned receptive field.\n",
    "\n",
    "We will use the STDP mechanism @ http://neuralensemble.org/docs/PyNN/0.7/dynamicsynapses.html"
   ]
  },
  {
   "cell_type": "code",
   "execution_count": null,
   "metadata": {},
   "outputs": [],
   "source": [
    "import numpy as np"
   ]
  },
  {
   "cell_type": "code",
   "execution_count": null,
   "metadata": {
    "ExecuteTime": {
     "end_time": "2018-11-27T10:40:23.878159Z",
     "start_time": "2018-11-27T10:40:23.346744Z"
    }
   },
   "outputs": [],
   "source": [
    "import pyNN.nest as sim\n",
    "from pyNN.random import RandomDistribution, NumpyRNG"
   ]
  },
  {
   "cell_type": "markdown",
   "metadata": {},
   "source": [
    "# defining a feed-forward SNN with STDP\n"
   ]
  },
  {
   "cell_type": "code",
   "execution_count": null,
   "metadata": {},
   "outputs": [],
   "source": [
    "# === Define parameters ========================================================\n",
    "dt         = 0.5           # (ms)\n",
    "simtime    = 3000.0        # (ms)\n",
    "simtime    = 20000.0        # (ms)\n",
    "\n",
    "N_inputs = 60\n",
    "#N_inputs = 360\n",
    "\n",
    "lambda_n = .5 # (Hz) rate of poisson noise\n",
    "theta = .50\n",
    "A = 6.\n",
    "B = .61803"
   ]
  },
  {
   "cell_type": "code",
   "execution_count": null,
   "metadata": {},
   "outputs": [],
   "source": [
    "def tuning_function(N_inputs, lambda_n=lambda_n, A=A, theta=theta, B=B):\n",
    "    return lambda_n + A*np.exp((np.cos(2*np.pi*(np.linspace(0, 1, N_inputs)-theta))-1)/B**2)\n",
    "rate = tuning_function(N_inputs, lambda_n=lambda_n, A=A, theta=theta, B=B)\n"
   ]
  },
  {
   "cell_type": "code",
   "execution_count": null,
   "metadata": {
    "collapsed": false
   },
   "outputs": [],
   "source": [
    "%matplotlib inline\n",
    "import matplotlib.pyplot as plt\n",
    "import numpy as np\n",
    "fig_width = 15\n",
    "phi = (np.sqrt(5)+1)/2"
   ]
  },
  {
   "cell_type": "code",
   "execution_count": null,
   "metadata": {},
   "outputs": [],
   "source": [
    "fig, ax = plt.subplots(1, 1, figsize=(fig_width, fig_width/phi))\n",
    "ax.plot(rate)\n",
    "ax.set_ylim(0)\n",
    "ax.set_xlabel('input')\n",
    "ax.set_ylabel('rate (Hz)');"
   ]
  },
  {
   "cell_type": "code",
   "execution_count": null,
   "metadata": {},
   "outputs": [],
   "source": [
    "weight0 = .15\n",
    "weights = weight0 * np.random.rand(N_inputs, N_inputs)\n",
    "#weights[weights<weight0/1.1] = 0"
   ]
  },
  {
   "cell_type": "code",
   "execution_count": null,
   "metadata": {},
   "outputs": [],
   "source": [
    "fig, ax = plt.subplots(1, 1, figsize=(fig_width, fig_width))\n",
    "ax.imshow(weights.T)\n",
    "ax.set_xlabel(\"Ouput index\")\n",
    "ax.set_ylabel('Input index');"
   ]
  },
  {
   "cell_type": "raw",
   "metadata": {},
   "source": [
    "help(sim.STDPMechanism)"
   ]
  },
  {
   "cell_type": "raw",
   "metadata": {},
   "source": [
    "help(sim.SpikePairRule)"
   ]
  },
  {
   "cell_type": "code",
   "execution_count": null,
   "metadata": {},
   "outputs": [],
   "source": [
    "# === Build the network ========================================================\n",
    "sim.setup(timestep=dt)\n",
    "\n",
    "\n",
    "spike_input = sim.Population(N_inputs, sim.SpikeSourcePoisson(rate=rate, duration=simtime), label=\"expoisson\")        \n",
    "spike_input.record('spikes')\n",
    "\n",
    "thalamocort_cell = sim.IF_cond_alpha()\n",
    "\n",
    "tc_cells = sim.Population(N_inputs, thalamocort_cell)\n",
    "tc_cells.record('spikes')\n",
    "\n",
    "#Synapses type\n",
    "eta = .01\n",
    "A_plus, A_minus = 1.*eta, 1.2*eta\n",
    "\n",
    "causal_hebbian_rule = sim.SpikePairRule(tau_plus=30., tau_minus=40.,\n",
    "                                      A_plus=A_plus, A_minus=A_minus)\n",
    "\n",
    "causal_STDP_syn = sim.STDPMechanism(\n",
    "    timing_dependence=causal_hebbian_rule,\n",
    "    #weight_dependence=sim.AdditiveWeightDependence(w_min=0, w_max=1.),\n",
    "    weight_dependence=sim.MultiplicativeWeightDependence(w_min=0, w_max=.5),\n",
    "    delay=1.5,)\n",
    "\n",
    "#connectivity using the projection method\n",
    "connections = sim.Projection(spike_input, tc_cells,\n",
    "                                    #connector=sim.AllToAllConnector(),# \n",
    "                                    connector=sim.FixedProbabilityConnector(.9),\n",
    "                                    synapse_type=causal_STDP_syn,\n",
    "                                    receptor_type='excitatory',\n",
    "                                    label=\"excitatory connections\")\n",
    "\n",
    "connections.set(weight=weights)\n",
    "\n",
    "# === Run simulation ===========================================================\n",
    "sim.run(simtime)\n",
    "sim.end()"
   ]
  },
  {
   "cell_type": "code",
   "execution_count": null,
   "metadata": {},
   "outputs": [],
   "source": [
    "from tools import plot_spiketrains\n",
    "fig, axs = plt.subplots(2, 1, figsize=(fig_width, fig_width/phi))\n",
    "fig, axs[0] = plot_spiketrains(spike_input, color='g', simtime=simtime, fig=fig, ax=axs[0])\n",
    "fig, axs[1] = plot_spiketrains(tc_cells, color='r', simtime=simtime, fig=fig, ax=axs[1])"
   ]
  },
  {
   "cell_type": "code",
   "execution_count": null,
   "metadata": {},
   "outputs": [],
   "source": [
    "from tools import histogram\n",
    "fig, ax = plt.subplots(1, 1, figsize=(fig_width, fig_width/phi))\n",
    "fig, ax = histogram(spike_input, color='g', simtime=simtime, fig=fig, ax=ax)\n",
    "fig, ax = histogram(tc_cells, color='r', simtime=simtime, fig=fig, ax=ax)"
   ]
  },
  {
   "cell_type": "code",
   "execution_count": null,
   "metadata": {},
   "outputs": [],
   "source": [
    "weights = connections.get('weight', format=\"array\")\n",
    "\n",
    "\n",
    "fig, ax = plt.subplots(1, 1, figsize=(fig_width, fig_width))\n",
    "ax.imshow(weights.T)\n",
    "ax.set_xlabel(\"Output index\")\n",
    "ax.set_ylabel('Input index');"
   ]
  }
 ],
 "metadata": {
  "kernelspec": {
   "display_name": "Python 3",
   "language": "python",
   "name": "python3"
  },
  "language_info": {
   "codemirror_mode": {
    "name": "ipython",
    "version": 3
   },
   "file_extension": ".py",
   "mimetype": "text/x-python",
   "name": "python",
   "nbconvert_exporter": "python",
   "pygments_lexer": "ipython3",
   "version": "3.7.2"
  }
 },
 "nbformat": 4,
 "nbformat_minor": 2
}
