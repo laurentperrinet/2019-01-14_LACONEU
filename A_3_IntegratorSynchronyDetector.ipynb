{
 "cells": [
  {
   "cell_type": "markdown",
   "metadata": {},
   "source": [
    "In this notebook, we will show using [PyNN](http://neuralensemble.org/docs/PyNN/index.html) how a neuron may integrate information by integrating over some tuned receptive field."
   ]
  },
  {
   "cell_type": "code",
   "execution_count": null,
   "metadata": {},
   "outputs": [],
   "source": [
    "import numpy as np"
   ]
  },
  {
   "cell_type": "code",
   "execution_count": null,
   "metadata": {
    "ExecuteTime": {
     "end_time": "2018-11-27T10:40:23.878159Z",
     "start_time": "2018-11-27T10:40:23.346744Z"
    }
   },
   "outputs": [],
   "source": [
    "import pyNN.nest as sim\n",
    "#import pyNN.brian as sim\n",
    "from pyNN.random import RandomDistribution, NumpyRNG"
   ]
  },
  {
   "cell_type": "markdown",
   "metadata": {},
   "source": [
    "# ddefining a tuned input\n"
   ]
  },
  {
   "cell_type": "code",
   "execution_count": null,
   "metadata": {},
   "outputs": [],
   "source": [
    "# === Define parameters ========================================================\n",
    "dt         = 0.5           # (ms)\n",
    "simtime_show    = 3000.0        # (ms)\n",
    "simtime    = 20000.0        # (ms)\n",
    "\n",
    "N_inputs = 60\n",
    "#N_inputs = 360\n",
    "\n",
    "lambda_n = 1.5 # (Hz) rate of poisson noise\n",
    "theta = .50\n",
    "A = 3.2\n",
    "B = .61803"
   ]
  },
  {
   "cell_type": "code",
   "execution_count": null,
   "metadata": {},
   "outputs": [],
   "source": [
    "def tuning_function(N_inputs, lambda_n=lambda_n, A=A, theta=theta, B=B):\n",
    "    return lambda_n + A*np.exp((np.cos(2*np.pi*(np.linspace(0, 1, N_inputs)-theta))-1)/B**2)\n",
    "rate = tuning_function(N_inputs, lambda_n=lambda_n, A=A, theta=theta, B=B)\n"
   ]
  },
  {
   "cell_type": "code",
   "execution_count": null,
   "metadata": {
    "collapsed": false
   },
   "outputs": [],
   "source": [
    "%matplotlib inline\n",
    "import matplotlib.pyplot as plt\n",
    "import numpy as np\n",
    "fig_width = 15\n",
    "phi = (np.sqrt(5)+1)/2"
   ]
  },
  {
   "cell_type": "code",
   "execution_count": null,
   "metadata": {},
   "outputs": [],
   "source": [
    "fig, ax = plt.subplots(1, 1, figsize=(fig_width, fig_width/phi))\n",
    "ax.plot(rate)\n",
    "ax.set_ylim(0)\n",
    "ax.set_xlabel('input')\n",
    "ax.set_ylabel('rate (Hz)');"
   ]
  },
  {
   "cell_type": "code",
   "execution_count": null,
   "metadata": {},
   "outputs": [],
   "source": [
    "from tools import plot_spiketrains\n",
    "help(plot_spiketrains)"
   ]
  },
  {
   "cell_type": "code",
   "execution_count": null,
   "metadata": {},
   "outputs": [],
   "source": [
    "# === Build the network ========================================================\n",
    "sim.setup(timestep=dt)\n",
    "\n",
    "spike_input = sim.Population(N_inputs, sim.SpikeSourcePoisson(rate=rate, duration=simtime), label=\"expoisson\")        \n",
    "spike_input.record('spikes')\n",
    "\n",
    "# === Run simulation ===========================================================\n",
    "sim.run(simtime)\n",
    "sim.end()\n",
    "#sim.reset()\n"
   ]
  },
  {
   "cell_type": "code",
   "execution_count": null,
   "metadata": {},
   "outputs": [],
   "source": [
    "fig, ax = plt.subplots(1, 1, figsize=(fig_width, fig_width/phi))\n",
    "fig, ax = plot_spiketrains(spike_input, color='g', simtime=simtime, fig=fig, ax=ax)\n",
    "#print('sts_in', [list(st.as_array()) for st in sts_in])\n",
    "ax.set_xlim(0, simtime_show);"
   ]
  },
  {
   "cell_type": "code",
   "execution_count": null,
   "metadata": {},
   "outputs": [],
   "source": [
    "from tools import histogram\n",
    "help(histogram)\n",
    "\n",
    "fig, ax = plt.subplots(1, 1, figsize=(fig_width, fig_width/phi))\n",
    "fig, ax = histogram(spike_input, color='g', simtime=simtime, fig=fig, ax=ax)\n"
   ]
  },
  {
   "cell_type": "markdown",
   "metadata": {},
   "source": [
    "# a spiking neuron is an integrator\n"
   ]
  },
  {
   "cell_type": "code",
   "execution_count": null,
   "metadata": {},
   "outputs": [],
   "source": [
    "weight0 = .6\n",
    "weights = (weight0 * rate / rate.max())[:, None] * np.linspace(0, 1, N_inputs)[None, :]"
   ]
  },
  {
   "cell_type": "code",
   "execution_count": null,
   "metadata": {},
   "outputs": [],
   "source": [
    "fig, ax = plt.subplots(1, 1, figsize=(fig_width, fig_width))\n",
    "ax.imshow(weights.T)\n",
    "ax.set_ylabel(\"Ouput index\")\n",
    "ax.set_xlabel('Input index');\n"
   ]
  },
  {
   "cell_type": "code",
   "execution_count": null,
   "metadata": {},
   "outputs": [],
   "source": [
    "# === Build the network ========================================================\n",
    "sim.setup(timestep=dt)\n",
    "\n",
    "spike_input = sim.Population(N_inputs, sim.SpikeSourcePoisson(rate=rate, duration=simtime), label=\"expoisson\")        \n",
    "spike_input.record('spikes')\n",
    "\n",
    "thalamocort_cell = sim.IF_cond_alpha()\n",
    "\n",
    "tc_cells = sim.Population(N_inputs, thalamocort_cell)\n",
    "tc_cells.record('spikes')\n",
    "\n",
    "#Synapses type\n",
    "delayed_synapses = sim.StaticSynapse()\n",
    "#connectivity using the projection method\n",
    "connections = sim.Projection(spike_input, tc_cells,\n",
    "                                    connector=sim.AllToAllConnector(),\n",
    "                                    synapse_type=delayed_synapses,\n",
    "                                    receptor_type='excitatory',\n",
    "                                    label=\"excitatory connections\")\n",
    "\n",
    "connections.set(weight=weights)\n",
    "\n",
    "# === Run simulation ===========================================================\n",
    "sim.run(simtime)\n",
    "sim.end()\n"
   ]
  },
  {
   "cell_type": "code",
   "execution_count": null,
   "metadata": {},
   "outputs": [],
   "source": [
    "fig, ax = plt.subplots(1, 1, figsize=(fig_width, fig_width/phi))\n",
    "fig, ax = plot_spiketrains(spike_input, color='g', simtime=simtime, fig=fig, ax=ax)\n",
    "fig, ax = plot_spiketrains(tc_cells, color='r', simtime=simtime, fig=fig, ax=ax)\n",
    "ax.set_xlim(0, simtime_show);"
   ]
  },
  {
   "cell_type": "code",
   "execution_count": null,
   "metadata": {},
   "outputs": [],
   "source": [
    "fig, ax = plt.subplots(1, 1, figsize=(fig_width, fig_width/phi))\n",
    "fig, ax = histogram(spike_input, color='g', simtime=simtime, fig=fig, ax=ax)\n",
    "fig, ax = histogram(tc_cells, color='r', simtime=simtime, fig=fig, ax=ax)"
   ]
  },
  {
   "cell_type": "markdown",
   "metadata": {},
   "source": [
    "# a spiking neuron is a synchrony detector (or Coincidence detector)\n",
    "\n",
    "one related set of slides: http://courses.cs.tamu.edu/rgutier/cpsc636_s10/student_presentations/Spiking%20Neuron%20Networks%20Presentation%20for%20PDF.pdf\n",
    "\n",
    "defining a periodic modulator spike source:"
   ]
  },
  {
   "cell_type": "code",
   "execution_count": null,
   "metadata": {},
   "outputs": [],
   "source": [
    "lambda_n = 1.5 # (Hz) rate of poisson noise\n",
    "theta = .50\n",
    "A = 30.2\n",
    "B = .61803\n",
    "times = np.arange(0.0, simtime, dt)\n",
    "amp = 1.\n",
    "amplitudes = amp * (np.sin(times*2*np.pi/200.0) > .8)\n",
    "rate = tuning_function(N_inputs, lambda_n=lambda_n, A=A, theta=theta, B=B)\n"
   ]
  },
  {
   "cell_type": "code",
   "execution_count": null,
   "metadata": {},
   "outputs": [],
   "source": [
    "# === Build the network ========================================================\n",
    "sim.setup(timestep=dt)\n",
    "\n",
    "poisson = sim.Population(N_inputs, sim.SpikeSourcePoisson(rate=rate, duration=simtime))        \n",
    "\n",
    "buffer = sim.Population(N_inputs, sim.IF_cond_alpha())        \n",
    "\n",
    "#Synapses type\n",
    "sine_wave = sim.StepCurrentSource(times=times, amplitudes=amplitudes)\n",
    "sine_wave.inject_into(buffer) \n",
    "\n",
    "buffer.record('spikes')\n",
    "\n",
    "# === Run simulation ===========================================================\n",
    "sim.run(simtime)\n",
    "sim.end()"
   ]
  },
  {
   "cell_type": "code",
   "execution_count": null,
   "metadata": {},
   "outputs": [],
   "source": [
    "fig, ax = plt.subplots(1, 1, figsize=(fig_width, fig_width/phi))\n",
    "#fig, ax = plot_spiketrains(spike_input, color='g', simtime=simtime, fig=fig, ax=ax)\n",
    "fig, ax = plot_spiketrains(buffer, color='r', simtime=simtime, fig=fig, ax=ax)\n",
    "#print('sts_in', [list(st.as_array()) for st in sts_in])\n",
    "ax.set_xlim(0, simtime_show);"
   ]
  },
  {
   "cell_type": "markdown",
   "metadata": {},
   "source": [
    "\n",
    "defining a synchronously modulated input by injecting this modulator:"
   ]
  },
  {
   "cell_type": "code",
   "execution_count": null,
   "metadata": {},
   "outputs": [],
   "source": [
    "# === Build the network ========================================================\n",
    "sim.setup(timestep=dt)\n",
    "\n",
    "buffer = sim.Population(N_inputs, sim.IF_cond_alpha())        \n",
    "sine_wave = sim.StepCurrentSource(times=times, amplitudes=amplitudes)\n",
    "sine_wave.inject_into(buffer) \n",
    "\n",
    "poisson = sim.Population(N_inputs, sim.SpikeSourcePoisson(rate=rate, duration=simtime))        \n",
    "\n",
    "spike_input = sim.Population(N_inputs, sim.IF_cond_alpha())        \n",
    "\n",
    "weight = 0.15\n",
    "modulation = sim.Projection(buffer, spike_input,\n",
    "                            #connector=sim.AllToAllConnector(),# \n",
    "                            #connector=sim.FixedProbabilityConnector(.9),\n",
    "                            connector=sim.OneToOneConnector(),\n",
    "                            synapse_type=sim.StaticSynapse(weight=2*weight),\n",
    "                            receptor_type='excitatory')\n",
    "\n",
    "connections = sim.Projection(poisson, spike_input,\n",
    "                            connector=sim.OneToOneConnector(),\n",
    "                            synapse_type=sim.StaticSynapse(weight=weight),\n",
    "                            receptor_type='excitatory')\n",
    "\n",
    "buffer.record('spikes')\n",
    "spike_input.record('spikes')\n",
    "\n",
    "# === Run simulation ===========================================================\n",
    "sim.run(simtime)\n",
    "sim.end()"
   ]
  },
  {
   "cell_type": "code",
   "execution_count": null,
   "metadata": {},
   "outputs": [],
   "source": [
    "fig, ax = plt.subplots(1, 1, figsize=(fig_width, fig_width/phi))\n",
    "fig, ax = plot_spiketrains(spike_input, color='g', simtime=simtime, fig=fig, ax=ax)\n",
    "#fig, ax = plot_spiketrains(buffer, color='r', simtime=simtime, fig=fig, ax=ax)\n",
    "#print('sts_in', [list(st.as_array()) for st in sts_in])\n",
    "ax.set_xlim(0, simtime_show);"
   ]
  },
  {
   "cell_type": "markdown",
   "metadata": {},
   "source": [
    "Connecting now this synchronous input to integrators with the same weights as above but different delays:"
   ]
  },
  {
   "cell_type": "raw",
   "metadata": {},
   "source": [
    "help(np.random.lognormal)"
   ]
  },
  {
   "cell_type": "code",
   "execution_count": null,
   "metadata": {},
   "outputs": [],
   "source": [
    "delay0 = 6.\n",
    "delayB = 25.\n",
    "std = np.linspace(0, delayB, N_inputs)[None, :] * np.ones((N_inputs, 1))\n",
    "#delays = delay0 + np.random.lognormal(mean=delay0, sigma=std)\n",
    "delays = delay0 + np.abs(np.random.normal(loc=0, scale=std))"
   ]
  },
  {
   "cell_type": "code",
   "execution_count": null,
   "metadata": {},
   "outputs": [],
   "source": [
    "fig, ax = plt.subplots(1, 1, figsize=(fig_width, fig_width))\n",
    "cmap = ax.imshow(delays.T)\n",
    "plt.colorbar(cmap)\n",
    "ax.set_xlabel(\"Ouput index\")\n",
    "ax.set_ylabel('Input index');"
   ]
  },
  {
   "cell_type": "code",
   "execution_count": null,
   "metadata": {},
   "outputs": [],
   "source": [
    "weight0 = .05\n",
    "weights = (weight0 * rate / rate.max())[:, None] * np.linspace(1, 1, N_inputs)[None, :]"
   ]
  },
  {
   "cell_type": "code",
   "execution_count": null,
   "metadata": {},
   "outputs": [],
   "source": [
    "fig, ax = plt.subplots(1, 1, figsize=(fig_width, fig_width))\n",
    "ax.imshow(weights.T)\n",
    "ax.set_ylabel(\"Ouput index\")\n",
    "ax.set_xlabel('Input index');"
   ]
  },
  {
   "cell_type": "code",
   "execution_count": null,
   "metadata": {},
   "outputs": [],
   "source": [
    "# === Build the network ========================================================\n",
    "sim.setup(timestep=dt)\n",
    "\n",
    "buffer = sim.Population(N_inputs, sim.IF_cond_alpha())        \n",
    "sine_wave = sim.StepCurrentSource(times=times, amplitudes=amplitudes)\n",
    "sine_wave.inject_into(buffer) \n",
    "\n",
    "poisson = sim.Population(N_inputs, sim.SpikeSourcePoisson(rate=rate, duration=simtime))        \n",
    "spike_input = sim.Population(N_inputs, sim.IF_cond_alpha())        \n",
    "\n",
    "modulation = sim.Projection(buffer, spike_input,\n",
    "                            #connector=sim.AllToAllConnector(),# \n",
    "                            #connector=sim.FixedProbabilityConnector(.9),\n",
    "                            connector=sim.OneToOneConnector(),\n",
    "                            synapse_type=sim.StaticSynapse(weight=2*weight),\n",
    "                            receptor_type='excitatory')\n",
    "input_connector = sim.Projection(poisson, spike_input,\n",
    "                            connector=sim.OneToOneConnector(),\n",
    "                            synapse_type=sim.StaticSynapse(weight=weight),\n",
    "                            receptor_type='excitatory')\n",
    "\n",
    "spike_input.record('spikes')\n",
    "\n",
    "\n",
    "thalamocort_cell = sim.IF_cond_alpha()\n",
    "\n",
    "tc_cells = sim.Population(N_inputs, thalamocort_cell)\n",
    "tc_cells.record('spikes')\n",
    "\n",
    "#Synapses type\n",
    "delayed_synapses = sim.StaticSynapse()\n",
    "#connectivity using the projection method\n",
    "connections = sim.Projection(spike_input, tc_cells,\n",
    "                                    connector=sim.AllToAllConnector(),\n",
    "                                    synapse_type=delayed_synapses,\n",
    "                                    receptor_type='excitatory',\n",
    "                                    label=\"excitatory connections\")\n",
    "\n",
    "connections.set(weight=weights)\n",
    "connections.set(delay=delays)\n",
    "\n",
    "# === Run simulation ===========================================================\n",
    "sim.run(simtime)\n",
    "sim.end()\n"
   ]
  },
  {
   "cell_type": "code",
   "execution_count": null,
   "metadata": {},
   "outputs": [],
   "source": [
    "fig, ax = plt.subplots(1, 1, figsize=(fig_width, fig_width/phi))\n",
    "fig, ax = plot_spiketrains(spike_input, color='g', simtime=simtime, fig=fig, ax=ax)\n",
    "fig, ax = plot_spiketrains(tc_cells, color='r', simtime=simtime, fig=fig, ax=ax)\n",
    "ax.set_xlim(0, simtime_show);"
   ]
  },
  {
   "cell_type": "code",
   "execution_count": null,
   "metadata": {},
   "outputs": [],
   "source": [
    "fig, ax = plt.subplots(1, 1, figsize=(fig_width, fig_width/phi))\n",
    "#fig, ax = histogram(spike_input, color='g', simtime=simtime, fig=fig, ax=ax)\n",
    "fig, ax = histogram(tc_cells, color='r', simtime=simtime, fig=fig, ax=ax)"
   ]
  },
  {
   "cell_type": "markdown",
   "metadata": {},
   "source": [
    "Adding an inhibitory population"
   ]
  },
  {
   "cell_type": "code",
   "execution_count": null,
   "metadata": {},
   "outputs": [],
   "source": [
    "delay0 = 2.\n",
    "delayB = 50.\n",
    "std = np.linspace(delayB, delayB, N_inputs)[None, :] * np.ones((N_inputs, 1))\n",
    "#delays = delay0 + np.random.lognormal(mean=delay0, sigma=std)\n",
    "delays_inh = delay0 + np.abs(np.random.normal(loc=0, scale=std))"
   ]
  },
  {
   "cell_type": "code",
   "execution_count": null,
   "metadata": {},
   "outputs": [],
   "source": [
    "# === Build the network ========================================================\n",
    "sim.setup(timestep=dt)\n",
    "\n",
    "buffer = sim.Population(N_inputs, sim.IF_cond_alpha())        \n",
    "sine_wave = sim.StepCurrentSource(times=times, amplitudes=amplitudes)\n",
    "sine_wave.inject_into(buffer) \n",
    "\n",
    "poisson = sim.Population(N_inputs, sim.SpikeSourcePoisson(rate=rate, duration=simtime))        \n",
    "spike_input = sim.Population(N_inputs, sim.IF_cond_alpha())        \n",
    "\n",
    "modulation = sim.Projection(buffer, spike_input,\n",
    "                            connector=sim.OneToOneConnector(),\n",
    "                            synapse_type=sim.StaticSynapse(weight=2*weight),\n",
    "                            receptor_type='excitatory')\n",
    "input_connector = sim.Projection(poisson, spike_input,\n",
    "                            connector=sim.OneToOneConnector(),\n",
    "                            synapse_type=sim.StaticSynapse(weight=weight),\n",
    "                            receptor_type='excitatory')\n",
    "\n",
    "spike_input.record('spikes')\n",
    "\n",
    "thalamocort_cell = sim.IF_cond_alpha()\n",
    "\n",
    "tc_cells_ffi = sim.Population(N_inputs, thalamocort_cell)\n",
    "tc_cells_ffi.record('spikes')\n",
    "\n",
    "inh_cells = sim.Population(N_inputs, thalamocort_cell)\n",
    "inh_cells.record('spikes')\n",
    "\n",
    "#connectivity using the projection method\n",
    "connections = sim.Projection(spike_input, tc_cells_ffi,\n",
    "                            connector=sim.AllToAllConnector(),\n",
    "                            synapse_type=sim.StaticSynapse(),\n",
    "                            receptor_type='excitatory')\n",
    "\n",
    "connections.set(weight=weights)\n",
    "connections.set(delay=delays)\n",
    "\n",
    "connections_inh = sim.Projection(spike_input, inh_cells,\n",
    "                            connector=sim.AllToAllConnector(),\n",
    "                            synapse_type=sim.StaticSynapse(),\n",
    "                            receptor_type='excitatory')\n",
    "\n",
    "connections_inh.set(weight=2*weights)\n",
    "connections_inh.set(delay=delays_inh)\n",
    "\n",
    "\n",
    "contrast = sim.Projection(inh_cells, tc_cells_ffi,\n",
    "                            connector=sim.OneToOneConnector(),\n",
    "                            synapse_type=sim.StaticSynapse(weight=5.4, delay=1.),\n",
    "                            receptor_type='inhibitory')\n",
    "\n",
    "# === Run simulation ===========================================================\n",
    "sim.run(simtime)\n",
    "sim.end()\n"
   ]
  },
  {
   "cell_type": "code",
   "execution_count": null,
   "metadata": {},
   "outputs": [],
   "source": [
    "fig, axs = plt.subplots(3, 1, figsize=(fig_width, 3*fig_width/phi))\n",
    "fig, axs[0] = plot_spiketrains(spike_input, color='g', simtime=simtime, fig=fig, ax=axs[0])\n",
    "fig, axs[1] = plot_spiketrains(inh_cells, color='b', simtime=simtime, fig=fig, ax=axs[1])\n",
    "fig, axs[2] = plot_spiketrains(tc_cells_ffi, color='r', simtime=simtime, fig=fig, ax=axs[2])\n",
    "for ax in axs: ax.set_xlim(0, simtime_show);"
   ]
  },
  {
   "cell_type": "code",
   "execution_count": null,
   "metadata": {},
   "outputs": [],
   "source": [
    "fig, ax = plt.subplots(1, 1, figsize=(fig_width, fig_width/phi))\n",
    "#fig, ax = histogram(spike_input, color='g', simtime=simtime, fig=fig, ax=ax)\n",
    "fig, ax = histogram(tc_cells, color='r', simtime=simtime, fig=fig, ax=ax, alpha=.5)\n",
    "fig, ax = histogram(tc_cells_ffi, color='b', simtime=simtime, fig=fig, ax=ax)\n"
   ]
  },
  {
   "cell_type": "code",
   "execution_count": null,
   "metadata": {},
   "outputs": [],
   "source": []
  }
 ],
 "metadata": {
  "kernelspec": {
   "display_name": "Python 3",
   "language": "python",
   "name": "python3"
  },
  "language_info": {
   "codemirror_mode": {
    "name": "ipython",
    "version": 3
   },
   "file_extension": ".py",
   "mimetype": "text/x-python",
   "name": "python",
   "nbconvert_exporter": "python",
   "pygments_lexer": "ipython3",
   "version": "3.7.2"
  }
 },
 "nbformat": 4,
 "nbformat_minor": 2
}
