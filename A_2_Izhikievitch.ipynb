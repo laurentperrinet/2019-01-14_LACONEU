{
 "cells": [
  {
   "cell_type": "markdown",
   "metadata": {},
   "source": [
    "In this first notebook, we will go from the installation of the [Brian](http://briansimulator.org/) neural simulator to the display of the simulation of an Hodgkin-Huxley neuron."
   ]
  },
  {
   "cell_type": "markdown",
   "metadata": {},
   "source": [
    "# Installation of PyNN"
   ]
  },
  {
   "cell_type": "code",
   "execution_count": 1,
   "metadata": {},
   "outputs": [
    {
     "name": "stdout",
     "output_type": "stream",
     "text": [
      "\u001b[33mRetrying (Retry(total=4, connect=None, read=None, redirect=None, status=None)) after connection broken by 'NewConnectionError('<pip._vendor.urllib3.connection.VerifiedHTTPSConnection object at 0x110cf9ac8>: Failed to establish a new connection: [Errno 8] nodename nor servname provided, or not known')': /simple/pynn/\u001b[0m\n",
      "\u001b[33mRetrying (Retry(total=3, connect=None, read=None, redirect=None, status=None)) after connection broken by 'NewConnectionError('<pip._vendor.urllib3.connection.VerifiedHTTPSConnection object at 0x110cf9a58>: Failed to establish a new connection: [Errno 8] nodename nor servname provided, or not known')': /simple/pynn/\u001b[0m\n",
      "\u001b[33mRetrying (Retry(total=2, connect=None, read=None, redirect=None, status=None)) after connection broken by 'NewConnectionError('<pip._vendor.urllib3.connection.VerifiedHTTPSConnection object at 0x110cf9668>: Failed to establish a new connection: [Errno 8] nodename nor servname provided, or not known')': /simple/pynn/\u001b[0m\n",
      "\u001b[33mRetrying (Retry(total=1, connect=None, read=None, redirect=None, status=None)) after connection broken by 'NewConnectionError('<pip._vendor.urllib3.connection.VerifiedHTTPSConnection object at 0x110cf9518>: Failed to establish a new connection: [Errno 8] nodename nor servname provided, or not known')': /simple/pynn/\u001b[0m\n",
      "\u001b[33mRetrying (Retry(total=0, connect=None, read=None, redirect=None, status=None)) after connection broken by 'NewConnectionError('<pip._vendor.urllib3.connection.VerifiedHTTPSConnection object at 0x110cf9b38>: Failed to establish a new connection: [Errno 8] nodename nor servname provided, or not known')': /simple/pynn/\u001b[0m\n",
      "Requirement already up-to-date: PyNN in /usr/local/lib/python3.7/site-packages (0.9.3)\n",
      "Requirement already satisfied, skipping upgrade: numpy>=1.8.2 in /usr/local/lib/python3.7/site-packages (from PyNN) (1.15.4)\n",
      "Requirement already satisfied, skipping upgrade: neo>=0.5.2 in /usr/local/lib/python3.7/site-packages (from PyNN) (0.7.1)\n",
      "Requirement already satisfied, skipping upgrade: lazyarray>=0.3.2 in /usr/local/lib/python3.7/site-packages (from PyNN) (0.3.2)\n",
      "Requirement already satisfied, skipping upgrade: quantities>=0.12.1 in /usr/local/lib/python3.7/site-packages (from PyNN) (0.12.2)\n"
     ]
    }
   ],
   "source": [
    "!python3 -m pip install -U PyNN"
   ]
  },
  {
   "cell_type": "code",
   "execution_count": 2,
   "metadata": {
    "collapsed": false
   },
   "outputs": [],
   "source": [
    "%matplotlib inline\n",
    "import matplotlib.pyplot as plt\n",
    "import numpy as np\n",
    "fig_width = 15\n",
    "phi = (np.sqrt(5)+1)/2"
   ]
  },
  {
   "cell_type": "markdown",
   "metadata": {},
   "source": [
    "# A selection of Izhikevich neurons\n",
    "\n",
    "adapted from http://neuralensemble.org/docs/PyNN/examples/Izhikevich.html"
   ]
  },
  {
   "cell_type": "markdown",
   "metadata": {},
   "source": [
    "Configure the simulator"
   ]
  },
  {
   "cell_type": "code",
   "execution_count": 29,
   "metadata": {},
   "outputs": [
    {
     "data": {
      "image/png": "[encoded data removed]",
      "text/plain": [
       "<Figure size 432x230.4 with 1 Axes>"
      ]
     },
     "metadata": {
      "needs_background": "light"
     },
     "output_type": "display_data"
    }
   ],
   "source": [
    "import pyNN.nest as sim\n",
    "sim.setup(timestep=0.01, min_delay=1.0)\n",
    "\n",
    "\n",
    "# === Build and instrument the network =======================================\n",
    "\n",
    "neurons = sim.Population(3, sim.Izhikevich(a=0.02, b=0.2, c=-65, d=6, i_offset=[0.014, 0.0, 0.0]))\n",
    "spike_source = sim.Population(1, sim.SpikeSourceArray(spike_times=arange(10.0, 51, 1)))\n",
    "\n",
    "connection = sim.Projection(spike_source, neurons[1:2], sim.OneToOneConnector(),\n",
    "                            sim.StaticSynapse(weight=3.0, delay=1.0),\n",
    "                            receptor_type='excitatory'),\n",
    "\n",
    "electrode = sim.DCSource(start=2.0, stop=92.0, amplitude=0.014)\n",
    "electrode.inject_into(neurons[2:3])\n",
    "\n",
    "neurons.record(['v'])  # , 'u'])\n",
    "neurons.initialize(v=-70.0, u=-14.0)\n",
    "\n",
    "\n",
    "# === Run the simulation =====================================================\n",
    "\n",
    "sim.run(100.0)\n",
    "\n",
    "\n",
    "# === Save the results, optionally plot a figure =============================\n",
    "\n",
    "from pyNN.utility.plotting import Figure, Panel\n",
    "data = neurons.get_data().segments[0]\n",
    "v = data.filter(name=\"v\")[0]\n",
    "#u = data.filter(name=\"u\")[0]\n",
    "fig = Figure(\n",
    "    Panel(v, ylabel=\"Membrane potential (mV)\", xticks=True,\n",
    "          xlabel=\"Time (ms)\", yticks=True),\n",
    "    #Panel(u, ylabel=\"u variable (units?)\"),    \n",
    ")\n",
    "# === Clean up and quit ========================================================\n",
    "\n",
    "sim.end()"
   ]
  }
 ],
 "metadata": {
  "kernelspec": {
   "display_name": "Python 3",
   "language": "python",
   "name": "python3"
  },
  "language_info": {
   "codemirror_mode": {
    "name": "ipython",
    "version": 3
   },
   "file_extension": ".py",
   "mimetype": "text/x-python",
   "name": "python",
   "nbconvert_exporter": "python",
   "pygments_lexer": "ipython3",
   "version": "3.7.2"
  }
 },
 "nbformat": 4,
 "nbformat_minor": 2
}
